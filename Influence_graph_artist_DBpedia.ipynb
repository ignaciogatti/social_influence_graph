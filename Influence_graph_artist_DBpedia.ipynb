{
 "cells": [
  {
   "cell_type": "code",
   "execution_count": null,
   "metadata": {},
   "outputs": [],
   "source": [
    "import pandas as pd\n",
    "import numpy as np\n",
    "import matplotlib.pyplot as plt\n",
    "import matplotlib.pylab as plb\n",
    "import seaborn as sns\n",
    "import rdflib as rdf\n",
    "from SPARQLWrapper import SPARQLWrapper, JSON"
   ]
  },
  {
   "cell_type": "code",
   "execution_count": null,
   "metadata": {},
   "outputs": [],
   "source": [
    "#return artists obtainded after DBpedia search\n",
    "\n",
    "def get_new_artist(df, col_to_split):\n",
    "    df[col_to_split] = df[col_to_split].str.replace(r'[\\[\\]\\'\\']', '')\n",
    "    influence = df[col_to_split].str.split(r', ')\n",
    "    influence_list = [artist for l in influence.values for artist in l]\n",
    "    new_artist = pd.Series(list(set(influence_list)))\n",
    "    new_artist = new_artist[new_artist != '']\n",
    "    return new_artist\n",
    "    \n",
    "    "
   ]
  },
  {
   "cell_type": "code",
   "execution_count": null,
   "metadata": {},
   "outputs": [],
   "source": [
    "import unicodedata\n",
    "\n",
    "def normalize_title(title):\n",
    "    return unicodedata.normalize('NFKD', title.lower()).encode('ASCII', 'ignore').decode('utf8')"
   ]
  },
  {
   "cell_type": "markdown",
   "metadata": {},
   "source": [
    "### Load dataset"
   ]
  },
  {
   "cell_type": "markdown",
   "metadata": {},
   "source": [
    "**Extract artist from full csv**"
   ]
  },
  {
   "cell_type": "code",
   "execution_count": null,
   "metadata": {},
   "outputs": [],
   "source": [
    "df_mayor_styles = pd.read_csv('/root/work/datasets/train_mayors_style.csv')\n",
    "df_mayor_styles.head()"
   ]
  },
  {
   "cell_type": "code",
   "execution_count": null,
   "metadata": {},
   "outputs": [],
   "source": [
    "artist = df_mayor_styles['artist']\n",
    "artist = artist.drop_duplicates()\n",
    "artist.head()"
   ]
  },
  {
   "cell_type": "code",
   "execution_count": null,
   "metadata": {},
   "outputs": [],
   "source": [
    "artist.shape"
   ]
  },
  {
   "cell_type": "markdown",
   "metadata": {},
   "source": [
    "**Extract edge artist**"
   ]
  },
  {
   "cell_type": "code",
   "execution_count": null,
   "metadata": {},
   "outputs": [],
   "source": [
    "artist_list = pd.read_csv('/root/work/datasets/Graph Data/artist-list.csv', encoding= 'utf-8-sig', names=['artist'])\n",
    "artist_list.head()"
   ]
  },
  {
   "cell_type": "code",
   "execution_count": null,
   "metadata": {},
   "outputs": [],
   "source": [
    "artist_list.shape"
   ]
  },
  {
   "cell_type": "code",
   "execution_count": null,
   "metadata": {},
   "outputs": [],
   "source": [
    "outer_artist = artist_list['artist'][~artist_list['artist'].isin(artist)]\n",
    "outer_artist.head()"
   ]
  },
  {
   "cell_type": "code",
   "execution_count": null,
   "metadata": {},
   "outputs": [],
   "source": [
    "outer_artist.shape"
   ]
  },
  {
   "cell_type": "code",
   "execution_count": null,
   "metadata": {},
   "outputs": [],
   "source": []
  },
  {
   "cell_type": "code",
   "execution_count": null,
   "metadata": {},
   "outputs": [],
   "source": [
    "df_edge_artist = pd.read_csv('/root/work/datasets/Graph Data/artist-influences.csv', encoding='utf-8-sig')\n",
    "df_edge_artist.head()"
   ]
  },
  {
   "cell_type": "code",
   "execution_count": null,
   "metadata": {},
   "outputs": [],
   "source": [
    "df_edge_artist = df_edge_artist.fillna('')\n",
    "influence_aritst = get_new_artist(df_edge_artist, 'Influence')\n",
    "influence_aritst.head()"
   ]
  },
  {
   "cell_type": "code",
   "execution_count": null,
   "metadata": {},
   "outputs": [],
   "source": [
    "influence_aritst.shape"
   ]
  },
  {
   "cell_type": "code",
   "execution_count": null,
   "metadata": {},
   "outputs": [],
   "source": [
    "outer_artist = influence_aritst[~influence_aritst.isin(df_edge_artist['Artist'])]\n",
    "outer_artist.head()"
   ]
  },
  {
   "cell_type": "code",
   "execution_count": null,
   "metadata": {},
   "outputs": [],
   "source": [
    "artist = outer_artist"
   ]
  },
  {
   "cell_type": "markdown",
   "metadata": {},
   "source": [
    "## Find artist influence on DBpedia"
   ]
  },
  {
   "cell_type": "code",
   "execution_count": null,
   "metadata": {},
   "outputs": [],
   "source": [
    "sparql = SPARQLWrapper(\"http://dbpedia.org/sparql\")"
   ]
  },
  {
   "cell_type": "code",
   "execution_count": null,
   "metadata": {},
   "outputs": [],
   "source": [
    "def find_influence( row ):\n",
    "    \n",
    "    artists = []\n",
    "    keywords = row.split()\n",
    "    keywords. append(row)\n",
    "    keywords.reverse()\n",
    "\n",
    "    try:\n",
    "        sparql = SPARQLWrapper(\"http://dbpedia.org/sparql\")\n",
    "        \n",
    "        for word in keywords:\n",
    "            stm = \"\"\"\n",
    "                SELECT DISTINCT ?Aname \n",
    "                where {\n",
    "                  ?A dbo:influencedBy ?B.\n",
    "                  ?A a dbo:Person.\n",
    "                  ?B a dbo:Person.\n",
    "                  ?B foaf:name ?Bname.\n",
    "                  ?A foaf:name ?Aname \n",
    "                  FILTER(regex(?Bname, \\\"\"\"\"+ word +\"\"\"\\\"))\n",
    "                 }\"\"\"\n",
    "\n",
    "            sparql.setQuery(stm)\n",
    "            sparql.setReturnFormat(JSON)\n",
    "            results = sparql.query().convert()\n",
    "            for result in results[\"results\"][\"bindings\"]:\n",
    "                artists.append(result[\"Aname\"][\"value\"])\n",
    "            if len(artists) != 0 :\n",
    "                break\n",
    "        \n",
    "    except:\n",
    "            print('Problem with ' + row)\n",
    "    \n",
    "    return artists"
   ]
  },
  {
   "cell_type": "code",
   "execution_count": null,
   "metadata": {},
   "outputs": [],
   "source": [
    "import math\n",
    "\n",
    "frame = 100\n",
    "max_complete_frames = math.floor(len(artist)/frame)\n",
    "max_complete_frames"
   ]
  },
  {
   "cell_type": "code",
   "execution_count": null,
   "metadata": {},
   "outputs": [],
   "source": [
    "for i in np.arange(0, max_complete_frames):\n",
    "    df_test =artist[i*frame : (i+1)*frame]\n",
    "    df_test_influenced = df_test.apply(find_influence)\n",
    "    df_to_save = pd.DataFrame({'Artist':df_test, 'Influence':df_test_influenced})\n",
    "    df_to_save.to_csv('/root/work/tmp/artist-influence_'+ str(i) +'.csv', encoding= 'utf-8-sig', index=False)\n",
    "    print(\"Iteration \" + str(i) )\n",
    "    \n",
    "if len(artist) % frame != 0:\n",
    "    df_test = artist[max_complete_frames*frame : len(artist) ]\n",
    "    df_test_influenced = df_test.apply(find_influence)\n",
    "    df_to_save = pd.DataFrame({'Artist':df_test, 'Influence':df_test_influenced})\n",
    "    df_to_save.to_csv('/root/work/tmp/artist-influence_'+ str(max_complete_frames ) +'.csv', encoding= 'utf-8-sig', index=False)"
   ]
  },
  {
   "cell_type": "markdown",
   "metadata": {},
   "source": [
    "**Join result**"
   ]
  },
  {
   "cell_type": "code",
   "execution_count": null,
   "metadata": {},
   "outputs": [],
   "source": [
    "df_influences = pd.read_csv('/root/work/tmp/artist-influence_0.csv', encoding= 'utf-8-sig')\n",
    "\n",
    "for i in np.arange(1, max_complete_frames+1):\n",
    "    df = pd.read_csv('/root/work/tmp/artist-influence_'+ str(i) +'.csv', encoding= 'utf-8-sig')\n",
    "    df_influences = pd.concat([df_influences, df], ignore_index=True)\n",
    "\n",
    "print(len(df_influences))"
   ]
  },
  {
   "cell_type": "code",
   "execution_count": null,
   "metadata": {},
   "outputs": [],
   "source": [
    "df_influences.head()"
   ]
  },
  {
   "cell_type": "code",
   "execution_count": null,
   "metadata": {},
   "outputs": [],
   "source": [
    "df_influences.to_csv('/root/work/datasets/Graph Data/artist-influences.csv', index=False, encoding= 'utf-8-sig')"
   ]
  },
  {
   "cell_type": "code",
   "execution_count": null,
   "metadata": {},
   "outputs": [],
   "source": []
  },
  {
   "cell_type": "code",
   "execution_count": null,
   "metadata": {},
   "outputs": [],
   "source": [
    "df_total_influences = pd.read_csv('/root/work/datasets/Graph Data/artist-influences.csv', encoding='utf-8-sig')\n",
    "df_total_influences.head()"
   ]
  },
  {
   "cell_type": "code",
   "execution_count": null,
   "metadata": {},
   "outputs": [],
   "source": [
    "df_total_influences.shape"
   ]
  },
  {
   "cell_type": "code",
   "execution_count": null,
   "metadata": {},
   "outputs": [],
   "source": [
    "df_total_influences = pd.concat([df_total_influences, df_influences])\n",
    "df_total_influences.shape"
   ]
  },
  {
   "cell_type": "code",
   "execution_count": null,
   "metadata": {},
   "outputs": [],
   "source": [
    "df_total_influences.to_csv('/root/work/datasets/Graph Data/artist-influences-dense.csv', encoding='utf-8-sig', index=False)"
   ]
  }
 ],
 "metadata": {
  "kernelspec": {
   "display_name": "Python 3",
   "language": "python",
   "name": "python3"
  },
  "language_info": {
   "codemirror_mode": {
    "name": "ipython",
    "version": 3
   },
   "file_extension": ".py",
   "mimetype": "text/x-python",
   "name": "python",
   "nbconvert_exporter": "python",
   "pygments_lexer": "ipython3",
   "version": "3.5.2"
  }
 },
 "nbformat": 4,
 "nbformat_minor": 2
}
